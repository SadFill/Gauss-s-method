{
  "nbformat": 4,
  "nbformat_minor": 0,
  "metadata": {
    "colab": {
      "name": "goose.ipynb",
      "provenance": [],
      "authorship_tag": "ABX9TyMcJy97v7I7ZktrIPb5awjf",
      "include_colab_link": true
    },
    "kernelspec": {
      "name": "python3",
      "display_name": "Python 3"
    },
    "language_info": {
      "name": "python"
    }
  },
  "cells": [
    {
      "cell_type": "markdown",
      "metadata": {
        "id": "view-in-github",
        "colab_type": "text"
      },
      "source": [
        "<a href=\"https://colab.research.google.com/github/SadFill/Gauss-s-method/blob/main/goose.ipynb\" target=\"_parent\"><img src=\"https://colab.research.google.com/assets/colab-badge.svg\" alt=\"Open In Colab\"/></a>"
      ]
    },
    {
      "cell_type": "code",
      "metadata": {
        "id": "5z0t6OG_QoPL"
      },
      "source": [
        "import numpy as np"
      ],
      "execution_count": null,
      "outputs": []
    },
    {
      "cell_type": "code",
      "metadata": {
        "id": "YRCYhsE9QtFU"
      },
      "source": [
        "dim = np.random.randint(1,5)\n",
        "mat = np.random.randint(0,10, size=(dim,dim)).astype('float64')"
      ],
      "execution_count": null,
      "outputs": []
    },
    {
      "cell_type": "code",
      "metadata": {
        "colab": {
          "base_uri": "https://localhost:8080/"
        },
        "id": "-MKjZgbtQ0eX",
        "outputId": "cd2c1ba2-7543-4058-91bc-571dd6b1ac0b"
      },
      "source": [
        "def printer(data):\n",
        "  print(data)\n",
        "\n",
        "printer(mat)"
      ],
      "execution_count": null,
      "outputs": [
        {
          "output_type": "stream",
          "text": [
            "[[8. 2.]\n",
            " [6. 5.]]\n"
          ],
          "name": "stdout"
        }
      ]
    },
    {
      "cell_type": "code",
      "metadata": {
        "id": "OgNxF9DIQ_BH"
      },
      "source": [
        "def find_min_element(mat):\n",
        "  \n",
        "  \"\"\"finds min values in each column\n",
        "  \"\"\"\n",
        "  for row in mat:\n",
        "    for column in mat:\n",
        "      min = np.min(mat, axis=0)\n",
        "  return min"
      ],
      "execution_count": null,
      "outputs": []
    },
    {
      "cell_type": "code",
      "metadata": {
        "colab": {
          "base_uri": "https://localhost:8080/"
        },
        "id": "KxSF9HNDTY2f",
        "outputId": "dad1078a-9260-4baa-d567-dfaae9888c4c"
      },
      "source": [
        "find_min_element(mat)"
      ],
      "execution_count": null,
      "outputs": [
        {
          "output_type": "execute_result",
          "data": {
            "text/plain": [
              "array([6., 2.])"
            ]
          },
          "metadata": {
            "tags": []
          },
          "execution_count": 68
        }
      ]
    },
    {
      "cell_type": "code",
      "metadata": {
        "id": "gy2W5BmOTegp"
      },
      "source": [
        "\n"
      ],
      "execution_count": null,
      "outputs": []
    },
    {
      "cell_type": "code",
      "metadata": {
        "id": "h0pCPHHOWQgr"
      },
      "source": [
        "def to_zero(mat):\n",
        "    for row in mat:\n",
        "      for column in mat:\n",
        "        min = np.min(mat, axis=0) >0 #находим минимальный элемент\n",
        "\n",
        "  #     for element in mat[min]:\n",
        "  #       mat[min] = mat[min]/min\n",
        "  # return min"
      ],
      "execution_count": null,
      "outputs": []
    },
    {
      "cell_type": "code",
      "metadata": {
        "id": "hea43VLkWSl3"
      },
      "source": [
        "def findmin(mat):\n",
        "  for row in mat[-1,:]:\n",
        "    min = np.min(mat, axis=0)\n",
        "  return min"
      ],
      "execution_count": null,
      "outputs": []
    },
    {
      "cell_type": "code",
      "metadata": {
        "colab": {
          "base_uri": "https://localhost:8080/"
        },
        "id": "1NuFE-e2hnr0",
        "outputId": "4a739b7a-7035-46dc-eb5b-e3b606524999"
      },
      "source": [
        "findmin(mat)"
      ],
      "execution_count": null,
      "outputs": [
        {
          "output_type": "execute_result",
          "data": {
            "text/plain": [
              "array([6., 2.])"
            ]
          },
          "metadata": {
            "tags": []
          },
          "execution_count": 90
        }
      ]
    },
    {
      "cell_type": "code",
      "metadata": {
        "colab": {
          "base_uri": "https://localhost:8080/"
        },
        "id": "ihl1uDq-ohpN",
        "outputId": "42610494-8236-46a4-d96e-ccff7e2ada1c"
      },
      "source": [
        "# finds min in 1-st column\n",
        "minimum = np.min(mat[:,0])\n",
        "minimum"
      ],
      "execution_count": null,
      "outputs": [
        {
          "output_type": "execute_result",
          "data": {
            "text/plain": [
              "6.0"
            ]
          },
          "metadata": {
            "tags": []
          },
          "execution_count": 95
        }
      ]
    },
    {
      "cell_type": "code",
      "metadata": {
        "colab": {
          "base_uri": "https://localhost:8080/"
        },
        "id": "7-2LOtMWhrE7",
        "outputId": "a6656f81-5dcc-4c60-8599-637af889eb1b"
      },
      "source": [
        "# делим последнюю строку на минимум\n",
        "mat[-1,:] = (mat[-1,:]/minimum)\n",
        "mat"
      ],
      "execution_count": null,
      "outputs": [
        {
          "output_type": "execute_result",
          "data": {
            "text/plain": [
              "array([[8.        , 2.        ],\n",
              "       [1.        , 0.83333333]])"
            ]
          },
          "metadata": {
            "tags": []
          },
          "execution_count": 104
        }
      ]
    },
    {
      "cell_type": "code",
      "metadata": {
        "colab": {
          "base_uri": "https://localhost:8080/"
        },
        "id": "87kvNdSQnu7T",
        "outputId": "cef9e689-a730-4327-b2ab-eb246d55c0e1"
      },
      "source": [
        "for raw in reversed(mat):\n",
        "  print(raw)"
      ],
      "execution_count": null,
      "outputs": [
        {
          "output_type": "stream",
          "text": [
            "2.0\n",
            "8.0\n"
          ],
          "name": "stdout"
        }
      ]
    },
    {
      "cell_type": "code",
      "metadata": {
        "id": "mMpfF1sZovMf"
      },
      "source": [
        ""
      ],
      "execution_count": null,
      "outputs": []
    }
  ]
}