{
  "nbformat": 4,
  "nbformat_minor": 0,
  "metadata": {
    "colab": {
      "name": "goose.ipynb",
      "provenance": [],
      "authorship_tag": "ABX9TyNTMIP5rCmKBT0q4LYMpE3/",
      "include_colab_link": true
    },
    "kernelspec": {
      "name": "python3",
      "display_name": "Python 3"
    },
    "language_info": {
      "name": "python"
    }
  },
  "cells": [
    {
      "cell_type": "markdown",
      "metadata": {
        "id": "view-in-github",
        "colab_type": "text"
      },
      "source": [
        "<a href=\"https://colab.research.google.com/github/SadFill/Gauss-s-method/blob/main/goose.ipynb\" target=\"_parent\"><img src=\"https://colab.research.google.com/assets/colab-badge.svg\" alt=\"Open In Colab\"/></a>"
      ]
    },
    {
      "cell_type": "code",
      "metadata": {
        "id": "5z0t6OG_QoPL"
      },
      "source": [
        "import numpy as np"
      ],
      "execution_count": null,
      "outputs": []
    },
    {
      "cell_type": "code",
      "metadata": {
        "id": "YRCYhsE9QtFU"
      },
      "source": [
        "# generates matrix'es dimensionarity \n",
        "\n",
        "dim = np.random.randint(1,5) \n",
        "\n",
        "# generates a matrix with size(dim, dim+1)\n",
        "\n",
        "mat = np.random.randint(0,10, size=(dim,dim+1)).astype('float64')"
      ],
      "execution_count": 114,
      "outputs": []
    },
    {
      "cell_type": "code",
      "metadata": {
        "colab": {
          "base_uri": "https://localhost:8080/"
        },
        "id": "-MKjZgbtQ0eX",
        "outputId": "ac0e6266-4590-42ce-b2b6-4e92a3eb235e"
      },
      "source": [
        "def printer(data):\n",
        "  print(data)\n",
        "\n",
        "printer(mat)"
      ],
      "execution_count": 115,
      "outputs": [
        {
          "output_type": "stream",
          "text": [
            "[[9. 2. 3. 1. 7.]\n",
            " [3. 5. 1. 8. 5.]\n",
            " [7. 6. 4. 0. 9.]\n",
            " [6. 6. 4. 3. 6.]]\n"
          ],
          "name": "stdout"
        }
      ]
    },
    {
      "cell_type": "code",
      "metadata": {
        "id": "OgNxF9DIQ_BH"
      },
      "source": [
        "# def find_min_element(mat):\n",
        "  \n",
        "#   \"\"\"finds min values in each column\n",
        "#   \"\"\"\n",
        "#   for row in mat:\n",
        "#     for column in mat:\n",
        "#       min = np.min(mat, axis=0)\n",
        "#   return min"
      ],
      "execution_count": null,
      "outputs": []
    },
    {
      "cell_type": "code",
      "metadata": {
        "id": "gy2W5BmOTegp"
      },
      "source": [
        "# def to_ones(mat):\n",
        "#   \"\"\"\n",
        "#   converts original matrix to identity matrix\n",
        "#   \"\"\"\n",
        "#   for row in range(dim):\n",
        "#     if mat[row,row] ==0:\n",
        "#       continue\n",
        "#     matrix = mat[row,:] = mat[row,:]/mat[row,row]\n",
        "#   return matrix\n"
      ],
      "execution_count": 110,
      "outputs": []
    },
    {
      "cell_type": "code",
      "metadata": {
        "id": "oU-nqTejh4I_",
        "colab": {
          "base_uri": "https://localhost:8080/"
        },
        "outputId": "a7ec0e9a-1272-48f5-b0b2-17351a6b7b62"
      },
      "source": [
        "to_ones(mat)\n",
        "print(mat)"
      ],
      "execution_count": 111,
      "outputs": [
        {
          "output_type": "stream",
          "text": [
            "[[1.         0.         0.66666667 2.33333333 1.33333333]\n",
            " [2.         1.         0.66666667 0.66666667 2.33333333]\n",
            " [1.75       0.25       1.         1.         0.        ]\n",
            " [0.66666667 1.33333333 3.         1.         0.        ]]\n"
          ],
          "name": "stdout"
        }
      ]
    },
    {
      "cell_type": "code",
      "metadata": {
        "id": "FxyUB9sMeL_L",
        "colab": {
          "base_uri": "https://localhost:8080/"
        },
        "outputId": "daab8acc-2050-4b9f-9c80-1929da23f044"
      },
      "source": [
        "mat"
      ],
      "execution_count": 97,
      "outputs": [
        {
          "output_type": "execute_result",
          "data": {
            "text/plain": [
              "array([[1.        , 1.        , 2.5       , 1.        , 2.5       ],\n",
              "       [0.        , 1.        , 0.125     , 1.125     , 0.375     ],\n",
              "       [1.        , 3.        , 1.        , 1.66666667, 2.33333333],\n",
              "       [3.5       , 4.5       , 3.        , 1.        , 2.5       ]])"
            ]
          },
          "metadata": {},
          "execution_count": 97
        }
      ]
    },
    {
      "cell_type": "code",
      "metadata": {
        "id": "dqMdlRZbddB1"
      },
      "source": [
        ""
      ],
      "execution_count": null,
      "outputs": []
    },
    {
      "cell_type": "code",
      "metadata": {
        "id": "h0pCPHHOWQgr"
      },
      "source": [
        "def to_triangle(mat):\n",
        "    \"\"\"\n",
        "  converts identity matrix to triangle matrix\n",
        "    \"\"\"\n",
        "    for row in range(dim):\n",
        "      mat[row,:] = mat[row,:]/mat[row,row]\n",
        "      for column in range(row+1, dim):\n",
        "        if mat[column,row] !=0:\n",
        "          mat[column,:] = mat[column,:]-mat[column,:] * mat[row,:]\n",
        "    return mat"
      ],
      "execution_count": 117,
      "outputs": []
    },
    {
      "cell_type": "code",
      "metadata": {
        "colab": {
          "base_uri": "https://localhost:8080/"
        },
        "id": "YSoJwp-gmGyf",
        "outputId": "621b2a4b-9e92-4951-8855-47ef63969217"
      },
      "source": [
        "printer(to_triangle(mat))"
      ],
      "execution_count": 118,
      "outputs": [
        {
          "output_type": "stream",
          "text": [
            "[[ 1.          0.22222222  0.33333333  0.11111111  0.77777778]\n",
            " [ 0.          1.          0.17142857  1.82857143  0.28571429]\n",
            " [ 0.          0.          1.          0.          0.64655172]\n",
            " [-0.         -0.         -0.          1.         -0.15234839]]\n"
          ],
          "name": "stdout"
        }
      ]
    },
    {
      "cell_type": "markdown",
      "metadata": {
        "id": "eiXonXRxl4jf"
      },
      "source": [
        "## **Извините, всё!**"
      ]
    },
    {
      "cell_type": "code",
      "metadata": {
        "id": "nnKtBGKamBOg"
      },
      "source": [
        ""
      ],
      "execution_count": null,
      "outputs": []
    },
    {
      "cell_type": "code",
      "metadata": {
        "id": "OtcinHPDmBRR"
      },
      "source": [
        ""
      ],
      "execution_count": null,
      "outputs": []
    },
    {
      "cell_type": "code",
      "metadata": {
        "id": "V2-564B4mBUS"
      },
      "source": [
        ""
      ],
      "execution_count": null,
      "outputs": []
    },
    {
      "cell_type": "code",
      "metadata": {
        "id": "vMyGoB1rmBXS"
      },
      "source": [
        ""
      ],
      "execution_count": null,
      "outputs": []
    },
    {
      "cell_type": "code",
      "metadata": {
        "id": "lVL_SC3tmBZ7"
      },
      "source": [
        ""
      ],
      "execution_count": null,
      "outputs": []
    },
    {
      "cell_type": "code",
      "metadata": {
        "id": "hea43VLkWSl3"
      },
      "source": [
        "def findmin(mat):\n",
        "  for row in mat[-1,:]:\n",
        "    min = np.min(mat, axis=0)\n",
        "  return min"
      ],
      "execution_count": null,
      "outputs": []
    },
    {
      "cell_type": "code",
      "metadata": {
        "colab": {
          "base_uri": "https://localhost:8080/"
        },
        "id": "1NuFE-e2hnr0",
        "outputId": "4a8829e8-49d5-413d-ed32-0f2867f26c35"
      },
      "source": [
        "# findmin(mat)"
      ],
      "execution_count": 79,
      "outputs": [
        {
          "output_type": "execute_result",
          "data": {
            "text/plain": [
              "array([ 0.        ,  0.        , -4.5       ,  0.03636364,  0.12272727])"
            ]
          },
          "metadata": {},
          "execution_count": 79
        }
      ]
    },
    {
      "cell_type": "code",
      "metadata": {
        "colab": {
          "base_uri": "https://localhost:8080/"
        },
        "id": "ihl1uDq-ohpN",
        "outputId": "87ff9292-7347-4ade-e367-cb20adbfcb5a"
      },
      "source": [
        "# # finds min in 1-st column\n",
        "minimum = np.min(mat[:,0])\n",
        "minimum"
      ],
      "execution_count": null,
      "outputs": [
        {
          "output_type": "execute_result",
          "data": {
            "text/plain": [
              "nan"
            ]
          },
          "metadata": {
            "tags": []
          },
          "execution_count": 13
        }
      ]
    },
    {
      "cell_type": "code",
      "metadata": {
        "colab": {
          "base_uri": "https://localhost:8080/"
        },
        "id": "7-2LOtMWhrE7",
        "outputId": "0d1df25a-6b06-4311-a981-7a2d558b6ec1"
      },
      "source": [
        "# делим последнюю строку на минимум\n",
        "mat[-1,:] = (mat[-1,:]/minimum)\n",
        "mat"
      ],
      "execution_count": null,
      "outputs": [
        {
          "output_type": "execute_result",
          "data": {
            "text/plain": [
              "array([[1. , 0.4, 1.6],\n",
              "       [nan, nan, nan]])"
            ]
          },
          "metadata": {
            "tags": []
          },
          "execution_count": 14
        }
      ]
    },
    {
      "cell_type": "code",
      "metadata": {
        "id": "87kvNdSQnu7T"
      },
      "source": [
        ""
      ],
      "execution_count": 79,
      "outputs": []
    },
    {
      "cell_type": "code",
      "metadata": {
        "id": "mMpfF1sZovMf"
      },
      "source": [
        ""
      ],
      "execution_count": null,
      "outputs": []
    }
  ]
}